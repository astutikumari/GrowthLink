{
  "nbformat": 4,
  "nbformat_minor": 0,
  "metadata": {
    "colab": {
      "provenance": [],
      "include_colab_link": true
    },
    "kernelspec": {
      "name": "python3",
      "display_name": "Python 3"
    }
  },
  "cells": [
    {
      "cell_type": "markdown",
      "metadata": {
        "id": "view-in-github",
        "colab_type": "text"
      },
      "source": [
        "<a href=\"https://colab.research.google.com/github/astutikumari/ML-bootcamp/blob/main/ASTUTI__data_preprocessing.ipynb\" target=\"_parent\"><img src=\"https://colab.research.google.com/assets/colab-badge.svg\" alt=\"Open In Colab\"/></a>"
      ]
    },
    {
      "cell_type": "markdown",
      "metadata": {
        "id": "37puETfgRzzg"
      },
      "source": [
        "# Data Preprocessing | Machine Learning Bootcamp"
      ]
    },
    {
      "cell_type": "markdown",
      "metadata": {
        "id": "EoRP98MpR-qj"
      },
      "source": [
        "## Import the required libraries"
      ]
    },
    {
      "cell_type": "code",
      "source": [
        "import numpy as np\n",
        "import matplotlib.pyplot as plt\n",
        "import pandas as pd"
      ],
      "metadata": {
        "id": "CzsgmGSlWpeJ"
      },
      "execution_count": 1,
      "outputs": []
    },
    {
      "cell_type": "markdown",
      "metadata": {
        "id": "RopL7tUZSQkT"
      },
      "source": [
        "## Import the dataset"
      ]
    },
    {
      "cell_type": "code",
      "source": [
        "dataset = pd.read_csv('Data.csv')\n",
        "X = dataset.iloc[:, :-1].values\n",
        "y = dataset.iloc[:, -1].values"
      ],
      "metadata": {
        "id": "CkuD8pQ8Wxts"
      },
      "execution_count": 3,
      "outputs": []
    },
    {
      "cell_type": "markdown",
      "metadata": {
        "id": "nhfKXNxlSabC"
      },
      "source": [
        "## Solving for missing data"
      ]
    },
    {
      "cell_type": "code",
      "source": [
        "from sklearn.impute import SimpleImputer\n",
        "imputer = SimpleImputer(missing_values=np.nan, strategy='mean')\n",
        "imputer.fit(X[:, 1:3])\n",
        "X[:, 1:3] = imputer.transform(X[:, 1:3])"
      ],
      "metadata": {
        "id": "Bx88WQqCYmIY"
      },
      "execution_count": 4,
      "outputs": []
    },
    {
      "cell_type": "markdown",
      "metadata": {
        "id": "CriG6VzVSjcK"
      },
      "source": [
        "## Encoding categorical data"
      ]
    },
    {
      "cell_type": "markdown",
      "metadata": {
        "id": "AhSpdQWeSsFh"
      },
      "source": [
        "### Encoding the Independent Variable"
      ]
    },
    {
      "cell_type": "code",
      "source": [
        "from sklearn.compose import ColumnTransformer\n",
        "from sklearn.preprocessing import OneHotEncoder\n",
        "ct = ColumnTransformer(transformers=[('encoder', OneHotEncoder(), [0])], remainder='passthrough')\n",
        "X = np.array(ct.fit_transform(X))"
      ],
      "metadata": {
        "id": "o85v5EZ9e8eZ"
      },
      "execution_count": 6,
      "outputs": []
    },
    {
      "cell_type": "code",
      "source": [
        "print(X)"
      ],
      "metadata": {
        "colab": {
          "base_uri": "https://localhost:8080/"
        },
        "id": "0WWNGeVlfgtu",
        "outputId": "49572af5-1f42-4346-dbb1-4c3f481674ce"
      },
      "execution_count": 9,
      "outputs": [
        {
          "output_type": "stream",
          "name": "stdout",
          "text": [
            "[[1.0 0.0 1.0 0.0 0.0 44.0 72000.0]\n",
            " [1.0 0.0 0.0 0.0 1.0 27.0 48000.0]\n",
            " [1.0 0.0 0.0 1.0 0.0 30.0 54000.0]\n",
            " [0.0 1.0 0.0 0.0 0.0 38.0 61000.0]\n",
            " [1.0 0.0 1.0 0.0 0.0 40.0 62562.5]\n",
            " [0.0 1.0 0.0 0.0 0.0 35.0 58000.0]\n",
            " [1.0 0.0 0.0 0.0 1.0 38.5625 52000.0]\n",
            " [1.0 0.0 1.0 0.0 0.0 48.0 79000.0]\n",
            " [1.0 0.0 0.0 1.0 0.0 50.0 83000.0]\n",
            " [1.0 0.0 0.0 0.0 1.0 37.0 67000.0]\n",
            " [1.0 0.0 1.0 0.0 0.0 25.0 62562.5]\n",
            " [1.0 0.0 0.0 0.0 1.0 36.0 60000.0]\n",
            " [1.0 0.0 0.0 1.0 0.0 42.0 64000.0]\n",
            " [1.0 0.0 1.0 0.0 0.0 38.5625 40000.0]\n",
            " [1.0 0.0 0.0 0.0 1.0 52.0 90000.0]\n",
            " [1.0 0.0 0.0 1.0 0.0 38.5625 55000.0]\n",
            " [0.0 1.0 0.0 0.0 0.0 41.0 62562.5]\n",
            " [1.0 0.0 1.0 0.0 0.0 29.0 48000.0]\n",
            " [0.0 1.0 0.0 0.0 0.0 43.0 70000.0]]\n"
          ]
        }
      ]
    },
    {
      "cell_type": "markdown",
      "metadata": {
        "id": "DXh8oVSITIc6"
      },
      "source": [
        "### Encoding the Dependent Variable"
      ]
    },
    {
      "cell_type": "code",
      "source": [
        "from sklearn.preprocessing import LabelEncoder\n",
        "le = LabelEncoder()\n",
        "y = le.fit_transform(y)"
      ],
      "metadata": {
        "id": "7lIRQBXJeuFB"
      },
      "execution_count": 8,
      "outputs": []
    },
    {
      "cell_type": "code",
      "source": [
        "print(y)"
      ],
      "metadata": {
        "colab": {
          "base_uri": "https://localhost:8080/"
        },
        "id": "1On8CtT-fmMO",
        "outputId": "2b1918b2-72f5-48af-8cbd-ae587af5b260"
      },
      "execution_count": 10,
      "outputs": [
        {
          "output_type": "stream",
          "name": "stdout",
          "text": [
            "[0 1 0 0 1 1 0 1 0 1 0 0 1 1 1 0 1 0 1]\n"
          ]
        }
      ]
    },
    {
      "cell_type": "markdown",
      "metadata": {
        "id": "qb_vcgm3qZKW"
      },
      "source": [
        "## Splitting the dataset into the Training set and Test set"
      ]
    },
    {
      "cell_type": "code",
      "source": [
        "from sklearn.model_selection import train_test_split\n",
        "X_train, X_test, y_train, y_test = train_test_split(X, y, test_size = 0.2, random_state = 40)"
      ],
      "metadata": {
        "id": "I9tzqd1Ef_Wa"
      },
      "execution_count": 11,
      "outputs": []
    },
    {
      "cell_type": "code",
      "source": [
        "print(X_train)"
      ],
      "metadata": {
        "colab": {
          "base_uri": "https://localhost:8080/"
        },
        "id": "MpUB1jMUgQqx",
        "outputId": "9f56c28a-e286-418f-bb2e-f7c67a147be6"
      },
      "execution_count": 12,
      "outputs": [
        {
          "output_type": "stream",
          "name": "stdout",
          "text": [
            "[[1.0 0.0 0.0 1.0 0.0 42.0 64000.0]\n",
            " [0.0 1.0 0.0 0.0 0.0 43.0 70000.0]\n",
            " [1.0 0.0 0.0 0.0 1.0 52.0 90000.0]\n",
            " [1.0 0.0 0.0 0.0 1.0 37.0 67000.0]\n",
            " [1.0 0.0 0.0 0.0 1.0 36.0 60000.0]\n",
            " [0.0 1.0 0.0 0.0 0.0 38.0 61000.0]\n",
            " [1.0 0.0 1.0 0.0 0.0 38.5625 40000.0]\n",
            " [1.0 0.0 1.0 0.0 0.0 29.0 48000.0]\n",
            " [1.0 0.0 0.0 0.0 1.0 27.0 48000.0]\n",
            " [1.0 0.0 0.0 1.0 0.0 30.0 54000.0]\n",
            " [1.0 0.0 0.0 1.0 0.0 38.5625 55000.0]\n",
            " [1.0 0.0 0.0 1.0 0.0 50.0 83000.0]\n",
            " [0.0 1.0 0.0 0.0 0.0 35.0 58000.0]\n",
            " [1.0 0.0 1.0 0.0 0.0 48.0 79000.0]\n",
            " [1.0 0.0 0.0 0.0 1.0 38.5625 52000.0]]\n"
          ]
        }
      ]
    },
    {
      "cell_type": "code",
      "source": [
        "print(X_test)"
      ],
      "metadata": {
        "colab": {
          "base_uri": "https://localhost:8080/"
        },
        "id": "LKqVFkc1gWnT",
        "outputId": "251dad91-3e5f-4f3c-f0b0-e729ad8142be"
      },
      "execution_count": 15,
      "outputs": [
        {
          "output_type": "stream",
          "name": "stdout",
          "text": [
            "[[0.0 1.0 0.0 0.0 0.0 41.0 62562.5]\n",
            " [1.0 0.0 1.0 0.0 0.0 25.0 62562.5]\n",
            " [1.0 0.0 1.0 0.0 0.0 40.0 62562.5]\n",
            " [1.0 0.0 1.0 0.0 0.0 44.0 72000.0]]\n"
          ]
        }
      ]
    },
    {
      "cell_type": "code",
      "source": [
        "print(y_train)"
      ],
      "metadata": {
        "colab": {
          "base_uri": "https://localhost:8080/"
        },
        "id": "dWL7nL_9gaIk",
        "outputId": "b4489404-0ad1-4171-be31-5cb639f91284"
      },
      "execution_count": 13,
      "outputs": [
        {
          "output_type": "stream",
          "name": "stdout",
          "text": [
            "[1 1 1 1 0 0 1 0 1 0 0 0 1 1 0]\n"
          ]
        }
      ]
    },
    {
      "cell_type": "code",
      "source": [
        "print(y_test)"
      ],
      "metadata": {
        "colab": {
          "base_uri": "https://localhost:8080/"
        },
        "id": "dudGIP_Ggcqg",
        "outputId": "7c8862ce-99d2-46a3-ed2f-2d06274e9381"
      },
      "execution_count": 14,
      "outputs": [
        {
          "output_type": "stream",
          "name": "stdout",
          "text": [
            "[1 0 1 0]\n"
          ]
        }
      ]
    },
    {
      "cell_type": "markdown",
      "metadata": {
        "id": "TpGqbS4TqkIR"
      },
      "source": [
        "## Feature Scaling"
      ]
    },
    {
      "cell_type": "code",
      "source": [
        "from sklearn.preprocessing import StandardScaler\n",
        "sc = StandardScaler()\n",
        "X_train = sc.fit_transform(X_train)\n",
        "X_test = sc.transform(X_test)"
      ],
      "metadata": {
        "id": "6pDCARCfguBc"
      },
      "execution_count": 16,
      "outputs": []
    },
    {
      "cell_type": "code",
      "source": [
        "print(X_train)"
      ],
      "metadata": {
        "colab": {
          "base_uri": "https://localhost:8080/"
        },
        "id": "uGfiPz7ChXwY",
        "outputId": "5df7efab-5270-453d-b3e8-be549182ecff"
      },
      "execution_count": 17,
      "outputs": [
        {
          "output_type": "stream",
          "name": "stdout",
          "text": [
            "[[ 0.5        -0.5        -0.5         1.6583124  -0.70710678  0.44570485\n",
            "   0.15355946]\n",
            " [-2.          2.         -0.5        -0.60302269 -0.70710678  0.58701154\n",
            "   0.59937724]\n",
            " [ 0.5        -0.5        -0.5        -0.60302269  1.41421356  1.85877174\n",
            "   2.08543652]\n",
            " [ 0.5        -0.5        -0.5        -0.60302269  1.41421356 -0.2608286\n",
            "   0.37646835]\n",
            " [ 0.5        -0.5        -0.5        -0.60302269  1.41421356 -0.40213529\n",
            "  -0.1436524 ]\n",
            " [-2.          2.         -0.5        -0.60302269 -0.70710678 -0.11952191\n",
            "  -0.06934943]\n",
            " [ 0.5        -0.5         2.         -0.60302269 -0.70710678 -0.0400369\n",
            "  -1.62971168]\n",
            " [ 0.5        -0.5         2.         -0.60302269 -0.70710678 -1.39128211\n",
            "  -1.03528797]\n",
            " [ 0.5        -0.5        -0.5        -0.60302269  1.41421356 -1.67389549\n",
            "  -1.03528797]\n",
            " [ 0.5        -0.5        -0.5         1.6583124  -0.70710678 -1.24997542\n",
            "  -0.58947018]\n",
            " [ 0.5        -0.5        -0.5         1.6583124  -0.70710678 -0.0400369\n",
            "  -0.51516722]\n",
            " [ 0.5        -0.5        -0.5         1.6583124  -0.70710678  1.57615836\n",
            "   1.56531578]\n",
            " [-2.          2.         -0.5        -0.60302269 -0.70710678 -0.54344198\n",
            "  -0.29225833]\n",
            " [ 0.5        -0.5         2.         -0.60302269 -0.70710678  1.29354498\n",
            "   1.26810392]\n",
            " [ 0.5        -0.5        -0.5        -0.60302269  1.41421356 -0.0400369\n",
            "  -0.73807611]]\n"
          ]
        }
      ]
    },
    {
      "cell_type": "code",
      "source": [
        "print(X_test)"
      ],
      "metadata": {
        "colab": {
          "base_uri": "https://localhost:8080/"
        },
        "id": "qABU1YK8heab",
        "outputId": "47d70da5-47cf-45f4-9dd4-0bb77d7faf2d"
      },
      "execution_count": 18,
      "outputs": [
        {
          "output_type": "stream",
          "name": "stdout",
          "text": [
            "[[-2.          2.         -0.5        -0.60302269 -0.70710678  0.30439816\n",
            "   0.04674895]\n",
            " [ 0.5        -0.5         2.         -0.60302269 -0.70710678 -1.95650887\n",
            "   0.04674895]\n",
            " [ 0.5        -0.5         2.         -0.60302269 -0.70710678  0.16309147\n",
            "   0.04674895]\n",
            " [ 0.5        -0.5         2.         -0.60302269 -0.70710678  0.72831823\n",
            "   0.74798317]]\n"
          ]
        }
      ]
    }
  ]
}